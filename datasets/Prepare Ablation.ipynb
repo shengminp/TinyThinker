{
 "cells": [
  {
   "cell_type": "code",
   "execution_count": null,
   "id": "6cfb3943-867a-4164-99e3-19f62eceeaa2",
   "metadata": {},
   "outputs": [],
   "source": [
    "import re\n",
    "import copy\n",
    "import json"
   ]
  },
  {
   "cell_type": "code",
   "execution_count": null,
   "id": "a05d1b75-c765-44df-bfc8-8911bb89c41c",
   "metadata": {},
   "outputs": [],
   "source": [
    "def load_json(file_path):\n",
    "    with open(file_path, \"r\") as file:\n",
    "        return json.load(file)"
   ]
  },
  {
   "cell_type": "code",
   "execution_count": null,
   "id": "114d5b65-5bb5-465e-ba41-9e7f698c2afd",
   "metadata": {},
   "outputs": [],
   "source": [
    "def modify_input(data, split_pattern, replacement):\n",
    "    modified_data = copy.deepcopy(data)\n",
    "    for item in modified_data:\n",
    "        input_sentence = item['input'].split(split_pattern)[0]\n",
    "        item['input'] = f'{input_sentence}{replacement}'\n",
    "    return modified_data"
   ]
  },
  {
   "cell_type": "code",
   "execution_count": null,
   "id": "da011d99-72b2-48ae-9c7c-bf3c81596b4a",
   "metadata": {},
   "outputs": [],
   "source": [
    "def prepare_for_summary_stage(train_summarize, valid, test):\n",
    "    ## Prepare data for only summary stage ablation study ##\n",
    "    return (\n",
    "        modify_input(train_summarize, '\\nRecall:', '\\nSummarize:'),\n",
    "        modify_input(valid, '\\nRecall:', '\\nSummarize:'),\n",
    "        modify_input(test, '\\nRecall:', '\\nSummarize:')\n",
    "    )"
   ]
  },
  {
   "cell_type": "code",
   "execution_count": null,
   "id": "8008c2b0-0aac-4c9d-a65c-78aabc8b485d",
   "metadata": {},
   "outputs": [],
   "source": [
    "def prepare_for_without_analysis(train_recall, train_summarize, valid, test):\n",
    "    ## Prepare data for without Analysis stage ablation study ##\n",
    "    ablation_recall = copy.deepcopy(train_recall)\n",
    "    ablation_KS = modify_input(train_summarize, '\\nAnalyze:', '\\nSummarize:')\n",
    "    return ablation_recall, ablation_KS, valid, test"
   ]
  },
  {
   "cell_type": "code",
   "execution_count": null,
   "id": "fb87b545-4bd9-459a-ad4e-9f5d698411a1",
   "metadata": {},
   "outputs": [],
   "source": [
    "def prepare_for_without_recall(train_analyze, train_summarize, valid, test):\n",
    "    ## Prepare data for without Recall stage ablation study ##\n",
    "    ablation_analysis = copy.deepcopy(train_analyze)\n",
    "    ablation_RS = copy.deepcopy(train_summarize)\n",
    "    pattern = r'Recall:.*?\\nAnalyze:'\n",
    "    for item in ablation_analysis:\n",
    "        item['input'] = re.sub(pattern, 'Analyze:', item['input'])\n",
    "    for item in ablation_RS:\n",
    "        item['input'] = re.sub(pattern, 'Analyze:', item['input'])\n",
    "   \n",
    "\n",
    "    options = sorted(re.findall(r'\\(([A-Z])\\)', valid[0][\"input\"]))\n",
    "    \n",
    "    def generate_ablation_data(data, split_pattern, prefix):\n",
    "        new_data = []\n",
    "        for item in data:\n",
    "            input_sentence = item['input'].split(split_pattern)[0]\n",
    "            for option in options:\n",
    "                new_item = copy.deepcopy(item)\n",
    "                new_item['input'] = f'{input_sentence}{prefix} For option {option},'\n",
    "                new_data.append(new_item)\n",
    "        return new_data\n",
    "\n",
    "    ablation_RS_valid = generate_ablation_data(valid, '\\nRecall:', '\\nAnalyze:')\n",
    "    ablation_RS_test = generate_ablation_data(test, '\\nRecall:', '\\nAnalyze:')\n",
    "\n",
    "    return ablation_analysis, ablation_RS, ablation_RS_valid, ablation_RS_test"
   ]
  },
  {
   "cell_type": "code",
   "execution_count": null,
   "id": "5317e943-4412-497e-acee-9d60b92f2d7f",
   "metadata": {},
   "outputs": [],
   "source": [
    "dataset_name = \"strategyqa\"\n",
    "base_path = f\"{dataset_name}/final/sft\"\n",
    "\n",
    "train_recall = load_json(f\"{base_path}/recall_analyze_summarize/recall.json\")\n",
    "train_analyze = load_json(f\"{base_path}/recall_analyze_summarize/analyze.json\")\n",
    "train_summarize = load_json(f\"{base_path}/recall_analyze_summarize/summarize.json\")\n",
    "valid = load_json(f\"{base_path}/recall_analyze_summarize/valid.json\")\n",
    "test = load_json(f\"{base_path}/recall_analyze_summarize/test.json\")"
   ]
  },
  {
   "cell_type": "code",
   "execution_count": null,
   "id": "fd38f5c9-f2e8-4f7b-9447-acd4f3f1195d",
   "metadata": {},
   "outputs": [],
   "source": [
    "ablation_summarize, ablation_summarize_valid, ablation_summarize_test = prepare_for_summary_stage(train_summarize, valid, test)\n",
    "ablation_recall, ablation_RS, ablation_RS_valid, ablation_RS_test = prepare_for_without_analysis(train_recall, train_summarize, valid, test)\n",
    "ablation_analyze, ablation_AS, ablation_AS_valid, ablation_AS_test = prepare_for_without_recall(train_analyze, train_summarize, valid, test)"
   ]
  },
  {
   "cell_type": "code",
   "execution_count": null,
   "id": "faa94db3-e2f4-4447-aae0-910c8e7618ac",
   "metadata": {},
   "outputs": [],
   "source": [
    "def remove_duplicates(data_list, unique_keys):\n",
    "    seen = set()\n",
    "    unique_data_list = []\n",
    "    for data in data_list:\n",
    "        identifier = tuple(data[key] for key in unique_keys)\n",
    "        if identifier not in seen:\n",
    "            seen.add(identifier)\n",
    "            unique_data_list.append(data)\n",
    "    return unique_data_list"
   ]
  },
  {
   "cell_type": "code",
   "execution_count": null,
   "id": "71457838-3bde-407d-a51e-003d50fd79b5",
   "metadata": {},
   "outputs": [],
   "source": [
    "ablation_summarize = remove_duplicates(ablation_summarize, ['input'])\n",
    "with open(f'{base_path}/summarize/summarize.json', 'w') as f:\n",
    "    json.dump(ablation_summarize, f)\n",
    "with open(f'{base_path}/summarize/valid.json', 'w') as f:\n",
    "    json.dump(ablation_summarize_valid, f)\n",
    "with open(f'{base_path}/summarize/test.json', 'w') as f:\n",
    "    json.dump(ablation_summarize_test, f)\n",
    "    \n",
    "ablation_KS = remove_duplicates(ablation_KS, ['input'])\n",
    "with open(f'{base_path}/recall_summarize/recall.json', 'w') as f:\n",
    "    json.dump(ablation_recall, f)\n",
    "with open(f'{base_path}/recall_summarize/summarize.json', 'w') as f:\n",
    "    json.dump(ablation_RS, f)\n",
    "with open(f'{base_path}/recall_summarize/valid.json', 'w') as f:\n",
    "    json.dump(ablation_RS_valid, f)\n",
    "with open(f'{base_path}/recall_summarize/test.json', 'w') as f:\n",
    "    json.dump(ablation_RS_test, f)\n",
    "    \n",
    "ablation_analyze = remove_duplicates(ablation_analyze, ['input', 'analyze'])\n",
    "with open(f'{base_path}/analyze_summarize/analyze.json', 'w') as f:\n",
    "    json.dump(ablation_analyze, f)\n",
    "with open(f'{base_path}/analyze_summarize/summarize.json', 'w') as f:\n",
    "    json.dump(ablation_AS, f)\n",
    "with open(f'{base_path}/analyze_summarize/valid.json', 'w') as f:\n",
    "    json.dump(ablation_AS_valid, f)\n",
    "with open(f'{base_path}/analyze_summarize/test.json', 'w') as f:\n",
    "    json.dump(ablation_AS_test, f)"
   ]
  }
 ],
 "metadata": {
  "kernelspec": {
   "display_name": "Python 3 (ipykernel)",
   "language": "python",
   "name": "python3"
  },
  "language_info": {
   "codemirror_mode": {
    "name": "ipython",
    "version": 3
   },
   "file_extension": ".py",
   "mimetype": "text/x-python",
   "name": "python",
   "nbconvert_exporter": "python",
   "pygments_lexer": "ipython3",
   "version": "3.10.13"
  }
 },
 "nbformat": 4,
 "nbformat_minor": 5
}
